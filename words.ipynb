{
 "cells": [
  {
   "cell_type": "code",
   "execution_count": 2,
   "metadata": {},
   "outputs": [],
   "source": [
    "import os\n",
    "import sys\n",
    "import json\n",
    "import nltk\n",
    "import pandas as pd"
   ]
  },
  {
   "cell_type": "code",
   "execution_count": 3,
   "metadata": {},
   "outputs": [],
   "source": [
    "def read_json_from_folder(folder_name):\n",
    "    \"\"\"\n",
    "    Reads all json files from a folder and returns a list of dictionaries\n",
    "    \"\"\"\n",
    "    json_list = []\n",
    "    for file in os.listdir(folder_name):\n",
    "        if file.endswith(\".json\"):\n",
    "            with open(folder_name + \"/\" + file) as json_file:\n",
    "                json_list.append(json.load(json_file))\n",
    "    return json_list\n",
    "    \n"
   ]
  },
  {
   "cell_type": "code",
   "execution_count": 4,
   "metadata": {},
   "outputs": [],
   "source": [
    "# read json from each folder in parent directory and append to a list\n",
    "json_list = []\n",
    "for folder in os.listdir(os.getcwd()):\n",
    "    if os.path.isdir(folder):\n",
    "        for file in os.listdir(os.getcwd() + \"/\" + folder):\n",
    "            if file.endswith(\".json\"):\n",
    "                with open(os.getcwd() + \"/\" + folder + \"/\" + file) as json_file:\n",
    "                    json_list.append(json.load(json_file))\n"
   ]
  },
  {
   "cell_type": "code",
   "execution_count": 5,
   "metadata": {},
   "outputs": [],
   "source": [
    "def message(i,j): return json_list[i]['messages'][j]"
   ]
  },
  {
   "cell_type": "code",
   "execution_count": 6,
   "metadata": {},
   "outputs": [],
   "source": [
    "def check_content(message_dict):\n",
    "    \"\"\"\n",
    "    Checks if the message is a text message\n",
    "    if content exists return content else return 0\n",
    "    \"\"\"\n",
    "    if 'content' in message_dict.keys() and message_dict['content'] != None and message_dict['sender_name'] == \"red5\":\n",
    "        return message_dict['content']\n",
    "    else:\n",
    "        return 0"
   ]
  },
  {
   "cell_type": "code",
   "execution_count": 7,
   "metadata": {},
   "outputs": [],
   "source": [
    "message_list = []\n",
    "for i in range(len(json_list)):\n",
    "    for j in range(len(json_list[i]['messages'])):\n",
    "        if check_content(message(i,j)) != 0:\n",
    "        \n",
    "            message_list.append(message(i,j)['content'])"
   ]
  },
  {
   "cell_type": "code",
   "execution_count": 8,
   "metadata": {},
   "outputs": [],
   "source": [
    "# for every item in meaage list, split into words and append to a list\n",
    "word_list = []\n",
    "for i in range(len(message_list)):\n",
    "    word_list.append(message_list[i].split())\n",
    "    "
   ]
  },
  {
   "cell_type": "code",
   "execution_count": 9,
   "metadata": {},
   "outputs": [],
   "source": [
    "# flatten word_list\n",
    "word_list = [item for sublist in word_list for item in sublist]\n"
   ]
  },
  {
   "cell_type": "code",
   "execution_count": 10,
   "metadata": {},
   "outputs": [
    {
     "name": "stderr",
     "output_type": "stream",
     "text": [
      "[nltk_data] Downloading package stopwords to /home/s/nltk_data...\n",
      "[nltk_data]   Package stopwords is already up-to-date!\n"
     ]
    }
   ],
   "source": [
    "\n",
    "from nltk.corpus import stopwords\n",
    "nltk.download('stopwords')\n",
    "updated_word_list = []\n",
    "for i in range(len(word_list)):\n",
    "    updated_word_list.append(word_list[i].lower().strip('.,!?;:()[]{}'))\n",
    "\n",
    "# remove stopwords\n",
    "stop_words = set(stopwords.words('english'))\n",
    "updated_word_list = [w for w in updated_word_list if not w in stop_words]\n",
    "\n",
    "from collections import Counter\n",
    "word_count = Counter(updated_word_list)"
   ]
  },
  {
   "cell_type": "code",
   "execution_count": 11,
   "metadata": {},
   "outputs": [
    {
     "data": {
      "image/png": "[encoded data removed]",
      "text/plain": [
       "<Figure size 432x288 with 1 Axes>"
      ]
     },
     "metadata": {
      "needs_background": "light"
     },
     "output_type": "display_data"
    }
   ],
   "source": [
    "# histogram of most common words vs frequency\n",
    "import matplotlib.pyplot as plt\n",
    "import numpy as np\n",
    "plot = plt.bar(range(25), [x[1] for x in word_count.most_common()[:25]], align='center')\n",
    "plt.xticks(range(25), [x[0] for x in word_count.most_common()[:25]], rotation='vertical')\n",
    "plt.show()\n",
    "\n",
    "\n"
   ]
  },
  {
   "cell_type": "code",
   "execution_count": 12,
   "metadata": {},
   "outputs": [
    {
     "name": "stderr",
     "output_type": "stream",
     "text": [
      "[nltk_data] Downloading package punkt to /home/s/nltk_data...\n",
      "[nltk_data]   Package punkt is already up-to-date!\n",
      "[nltk_data] Downloading package averaged_perceptron_tagger to\n",
      "[nltk_data]     /home/s/nltk_data...\n",
      "[nltk_data]   Package averaged_perceptron_tagger is already up-to-\n",
      "[nltk_data]       date!\n"
     ]
    }
   ],
   "source": [
    "# count nnumber of nouns, verbs, adjectives, adverbs\n",
    "from nltk.tokenize import word_tokenize\n",
    "from nltk.tag import pos_tag\n",
    "nltk.download('punkt')\n",
    "nltk.download('averaged_perceptron_tagger')\n",
    "\n",
    "nouns = []\n",
    "verbs = []\n",
    "adjectives = []\n",
    "adverbs = []\n",
    "\n",
    "s = ' '.join(updated_word_list)\n",
    "tokens = word_tokenize(s)\n",
    "tags = pos_tag(tokens)\n",
    "\n"
   ]
  },
  {
   "cell_type": "code",
   "execution_count": 13,
   "metadata": {},
   "outputs": [],
   "source": [
    "\n",
    "for i in range(len(tags)):\n",
    "    # counts all the nouns\n",
    "    if tags[i][1] == 'NN' or tags[i][1] == 'NNP' or tags[i][1] == 'NNS':\n",
    "        nouns.append(tags[i][0])\n",
    "    # count all verbs\n",
    "    if tags[i][1] == 'VB' or tags[i][1] == 'VBD' or tags[i][1] == 'VBG' or tags[i][1] == 'VBN' or tags[i][1] == 'VBP' or tags[i][1] == 'VBZ':\n",
    "        verbs.append(tags[i][0])\n",
    "    # count all adjectives\n",
    "    if tags[i][1] == 'JJ' or tags[i][1] == 'JJR' or tags[i][1] == 'JJS':\n",
    "        adjectives.append(tags[i][0])\n",
    "    # count all adverbs\n",
    "    if tags[i][1] == 'RB' or tags[i][1] == 'RBR' or tags[i][1] == 'RBS':\n",
    "        adverbs.append(tags[i][0])\n",
    "        "
   ]
  },
  {
   "cell_type": "code",
   "execution_count": 14,
   "metadata": {},
   "outputs": [
    {
     "data": {
      "image/png": "[encoded data removed]",
      "text/plain": [
       "<Figure size 432x288 with 1 Axes>"
      ]
     },
     "metadata": {},
     "output_type": "display_data"
    }
   ],
   "source": [
    "len(set(nouns)), len(set(verbs)), len(set(adjectives)), len(set(adverbs))\n",
    "# plot a pie chart of these counts\n",
    "\n",
    "labels = 'Nouns', 'Verbs', 'Adjectives', 'Adverbs'\n",
    "sizes = [len(set(nouns)), len(set(verbs)), len(set(adjectives)), len(set(adverbs))]\n",
    "colors = ['gold', 'yellowgreen', 'lightcoral', 'lightskyblue']\n",
    "explode = (0.1, 0.1, 0.1, 0.1)  # explode 1st slice\n",
    "plot = plt.pie(sizes, explode=explode, labels=labels, colors=colors,\n",
    "                autopct='%1.1f%%', shadow=True, startangle=140)\n",
    "plt.axis('equal')\n",
    "plt.show()\n"
   ]
  },
  {
   "cell_type": "code",
   "execution_count": 15,
   "metadata": {},
   "outputs": [],
   "source": [
    "# perform nltk sentiment analysis on the message\n",
    "from nltk.sentiment.vader import SentimentIntensityAnalyzer\n",
    "sid = SentimentIntensityAnalyzer()\n"
   ]
  },
  {
   "cell_type": "code",
   "execution_count": 16,
   "metadata": {},
   "outputs": [],
   "source": [
    "sentences = []\n",
    "for i in range(len(message_list)):\n",
    "    sentences.append(message_list[i])"
   ]
  },
  {
   "cell_type": "code",
   "execution_count": 17,
   "metadata": {},
   "outputs": [],
   "source": [
    "# apply sentiment analysis to each sentence\n",
    "sentiment_list = []\n",
    "for i in range(len(sentences)):\n",
    "    sentiment_list.append(sid.polarity_scores(sentences[i]))\n",
    "    "
   ]
  },
  {
   "cell_type": "code",
   "execution_count": 18,
   "metadata": {},
   "outputs": [],
   "source": [
    "# sum all types of sentiment scores\n",
    "sum_pos = 0\n",
    "sum_neg = 0\n",
    "sum_neu = 0\n",
    "for i in range(len(sentiment_list)):\n",
    "    sum_pos += sentiment_list[i]['pos']\n",
    "    sum_neg += sentiment_list[i]['neg']\n",
    "    sum_neu += sentiment_list[i]['neu']\n",
    "    "
   ]
  },
  {
   "cell_type": "code",
   "execution_count": 19,
   "metadata": {},
   "outputs": [
    {
     "data": {
      "image/png": "[encoded data removed]",
      "text/plain": [
       "<Figure size 432x288 with 1 Axes>"
      ]
     },
     "metadata": {},
     "output_type": "display_data"
    }
   ],
   "source": [
    "# plot a pie chart of the sum of all types of sentiment scores\n",
    "labels = 'Positive', 'Negative', 'Neutral'\n",
    "sizes = [sum_pos, sum_neg, sum_neu]\n",
    "colors = ['gold', 'yellowgreen', 'lightcoral']\n",
    "explode = (0.1, 0.1, 0.1)  # explode 1st slice\n",
    "plot = plt.pie(sizes, explode=explode, labels=labels, colors=colors,\n",
    "                autopct='%1.1f%%', shadow=True, startangle=140)\n",
    "plt.axis('equal')\n",
    "plt.show()\n"
   ]
  },
  {
   "cell_type": "code",
   "execution_count": 32,
   "metadata": {},
   "outputs": [],
   "source": [
    "# get the relative imortance of each word for a given sentence\n",
    "def get_word_importance(sentence):\n",
    "    \"\"\"\n",
    "    Returns a list of tuples of the form (word, relative_importance)\n",
    "    \"\"\"\n",
    "    word_list = word_tokenize(sentence)\n",
    "    word_list = [w.lower().strip('.,!?;:()[]{}') for w in word_list]\n",
    "    word_list = [w for w in word_list if not w in stop_words]\n",
    "    word_list = [w for w in word_list if w.isalpha()]\n",
    "    word_list = [w for w in word_list if w in word_count.keys()]\n",
    "    \n",
    "    word_importance = []\n",
    "    for i in range(len(word_list)):\n",
    "        word_importance.append((word_list[i], word_count[word_list[i]]/len(word_list)))\n",
    "    return word_importance"
   ]
  },
  {
   "cell_type": "code",
   "execution_count": 75,
   "metadata": {},
   "outputs": [],
   "source": [
    "# get word importance on each sentence, and sum up the word importance\n",
    "importance_list = []\n",
    "for i in range(len(sentences)):\n",
    "    importance_list.append(get_word_importance(sentences[i]))\n",
    "    "
   ]
  },
  {
   "cell_type": "code",
   "execution_count": 76,
   "metadata": {},
   "outputs": [],
   "source": [
    "importance_list_flat = [item for sublist in importance_list for item in sublist]"
   ]
  },
  {
   "cell_type": "code",
   "execution_count": 112,
   "metadata": {},
   "outputs": [],
   "source": [
    "# create a dict with the word as key and the relative importance as value. add the word to the dict if it is not already there, if it is there, add the relative importance to the existing value and divide by the number of words\n",
    "word_importance_dict = {}\n",
    "for i in range(len(importance_list_flat)):\n",
    "    if importance_list_flat[i][0] not in word_importance_dict.keys():\n",
    "        word_importance_dict[importance_list_flat[i][0]] = importance_list_flat[i][1]\n",
    "    else:\n",
    "        word_importance_dict[importance_list_flat[i][0]] += importance_list_flat[i][1]\n",
    "\n",
    "\n",
    "# divide by the number occurence in the word_count dict\n",
    "for key in word_importance_dict.keys():\n",
    "    word_importance_dict[key] = word_importance_dict[key]/word_count[key]\n"
   ]
  },
  {
   "cell_type": "code",
   "execution_count": 113,
   "metadata": {},
   "outputs": [],
   "source": [
    "# sort the dict by value\n",
    "sorted_word_importance_dict = sorted(word_importance_dict.items(), key=lambda x: x[1], reverse=True)"
   ]
  },
  {
   "cell_type": "code",
   "execution_count": null,
   "metadata": {},
   "outputs": [],
   "source": []
  },
  {
   "cell_type": "code",
   "execution_count": null,
   "metadata": {},
   "outputs": [],
   "source": []
  }
 ],
 "metadata": {
  "interpreter": {
   "hash": "e7370f93d1d0cde622a1f8e1c04877d8463912d04d973331ad4851f04de6915a"
  },
  "kernelspec": {
   "display_name": "Python 3.10.1 64-bit",
   "language": "python",
   "name": "python3"
  },
  "language_info": {
   "codemirror_mode": {
    "name": "ipython",
    "version": 3
   },
   "file_extension": ".py",
   "mimetype": "text/x-python",
   "name": "python",
   "nbconvert_exporter": "python",
   "pygments_lexer": "ipython3",
   "version": "3.10.1"
  },
  "orig_nbformat": 4
 },
 "nbformat": 4,
 "nbformat_minor": 2
}
