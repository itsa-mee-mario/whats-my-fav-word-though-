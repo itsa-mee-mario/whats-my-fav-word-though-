{
 "cells": [
  {
   "cell_type": "code",
   "execution_count": 2,
   "metadata": {},
   "outputs": [],
   "source": [
    "import os\n",
    "import sys\n",
    "import json\n",
    "import nltk"
   ]
  },
  {
   "cell_type": "code",
   "execution_count": 3,
   "metadata": {},
   "outputs": [],
   "source": [
    "def read_json_from_folder(folder_name):\n",
    "    \"\"\"\n",
    "    Reads all json files from a folder and returns a list of dictionaries\n",
    "    \"\"\"\n",
    "    json_list = []\n",
    "    for file in os.listdir(folder_name):\n",
    "        if file.endswith(\".json\"):\n",
    "            with open(folder_name + \"/\" + file) as json_file:\n",
    "                json_list.append(json.load(json_file))\n",
    "    return json_list\n",
    "    \n"
   ]
  },
  {
   "cell_type": "code",
   "execution_count": 4,
   "metadata": {},
   "outputs": [],
   "source": [
    "# read json from each folder in parent directory and append to a list\n",
    "json_list = []\n",
    "for folder in os.listdir(os.getcwd()):\n",
    "    if os.path.isdir(folder):\n",
    "        for file in os.listdir(os.getcwd() + \"/\" + folder):\n",
    "            if file.endswith(\".json\"):\n",
    "                with open(os.getcwd() + \"/\" + folder + \"/\" + file) as json_file:\n",
    "                    json_list.append(json.load(json_file))\n"
   ]
  },
  {
   "cell_type": "code",
   "execution_count": 5,
   "metadata": {},
   "outputs": [],
   "source": [
    "def message(i,j): return json_list[i]['messages'][j]"
   ]
  },
  {
   "cell_type": "code",
   "execution_count": 6,
   "metadata": {},
   "outputs": [],
   "source": [
    "def check_content(message_dict):\n",
    "    \"\"\"\n",
    "    Checks if the message is a text message\n",
    "    if content exists return content else return 0\n",
    "    \"\"\"\n",
    "    if 'content' in message_dict.keys():\n",
    "        return message_dict['content']\n",
    "    else:\n",
    "        return 0"
   ]
  },
  {
   "cell_type": "code",
   "execution_count": 7,
   "metadata": {},
   "outputs": [],
   "source": [
    "message_list = []\n",
    "for i in range(len(json_list)):\n",
    "    for j in range(len(json_list[i]['messages'])):\n",
    "        if check_content(message(i,j)) != 0:\n",
    "            message_list.append(message(i,j)['content'])"
   ]
  },
  {
   "cell_type": "code",
   "execution_count": 8,
   "metadata": {},
   "outputs": [],
   "source": [
    "# for every item in meaage list, split into words and append to a list\n",
    "word_list = []\n",
    "for i in range(len(message_list)):\n",
    "    word_list.append(message_list[i].split())\n",
    "    "
   ]
  },
  {
   "cell_type": "code",
   "execution_count": 9,
   "metadata": {},
   "outputs": [],
   "source": [
    "# flatten word_list\n",
    "word_list = [item for sublist in word_list for item in sublist]\n"
   ]
  },
  {
   "cell_type": "code",
   "execution_count": 10,
   "metadata": {},
   "outputs": [
    {
     "data": {
      "text/plain": [
       "161220"
      ]
     },
     "execution_count": 10,
     "metadata": {},
     "output_type": "execute_result"
    }
   ],
   "source": [
    "len(word_list)"
   ]
  },
  {
   "cell_type": "code",
   "execution_count": 11,
   "metadata": {},
   "outputs": [
    {
     "name": "stderr",
     "output_type": "stream",
     "text": [
      "[nltk_data] Downloading package stopwords to /home/s/nltk_data...\n",
      "[nltk_data]   Package stopwords is already up-to-date!\n"
     ]
    }
   ],
   "source": [
    "\n",
    "from nltk.corpus import stopwords\n",
    "nltk.download('stopwords')\n",
    "updated_word_list = []\n",
    "for i in range(len(word_list)):\n",
    "    updated_word_list.append(word_list[i].lower().strip('.,!?;:()[]{}'))\n",
    "\n",
    "# remove stopwords\n",
    "stop_words = set(stopwords.words('english'))\n",
    "updated_word_list = [w for w in updated_word_list if not w in stop_words]\n",
    "\n",
    "\n",
    "\n"
   ]
  },
  {
   "cell_type": "code",
   "execution_count": 24,
   "metadata": {},
   "outputs": [
    {
     "name": "stderr",
     "output_type": "stream",
     "text": [
      "/usr/lib/python3.10/site-packages/IPython/core/pylabtools.py:151: UserWarning: Glyph 157 (\\x9d) missing from current font.\n",
      "  fig.canvas.print_figure(bytes_io, **kw)\n",
      "/usr/lib/python3.10/site-packages/IPython/core/pylabtools.py:151: UserWarning: Glyph 143 (\\x8f) missing from current font.\n",
      "  fig.canvas.print_figure(bytes_io, **kw)\n"
     ]
    },
    {
     "data": {
      "image/png": "[encoded data removed]",
      "text/plain": [
       "<Figure size 432x288 with 1 Axes>"
      ]
     },
     "metadata": {
      "needs_background": "light"
     },
     "output_type": "display_data"
    }
   ],
   "source": [
    "# histogram of most common words vs frequency\n",
    "import matplotlib.pyplot as plt\n",
    "import numpy as np\n",
    "plot = plt.bar(range(25), [x[1] for x in word_count.most_common()[:25]], align='center')\n",
    "plt.xticks(range(25), [x[0] for x in word_count.most_common()[:25]])\n",
    "plt.show()\n",
    "\n",
    "\n"
   ]
  },
  {
   "cell_type": "code",
   "execution_count": 27,
   "metadata": {},
   "outputs": [
    {
     "name": "stderr",
     "output_type": "stream",
     "text": [
      "[nltk_data] Downloading package punkt to /home/s/nltk_data...\n",
      "[nltk_data]   Package punkt is already up-to-date!\n",
      "[nltk_data] Downloading package averaged_perceptron_tagger to\n",
      "[nltk_data]     /home/s/nltk_data...\n",
      "[nltk_data]   Unzipping taggers/averaged_perceptron_tagger.zip.\n"
     ]
    }
   ],
   "source": [
    "# count nnumber of nouns, verbs, adjectives, adverbs\n",
    "from nltk.tokenize import word_tokenize\n",
    "from nltk.tag import pos_tag\n",
    "nltk.download('punkt')\n",
    "nltk.download('averaged_perceptron_tagger')\n",
    "\n",
    "nouns = []\n",
    "verbs = []\n",
    "adjectives = []\n",
    "adverbs = []\n",
    "\n",
    "s = ' '.join(updated_word_list)\n",
    "tokens = word_tokenize(s)\n",
    "tags = pos_tag(tokens)\n",
    "\n"
   ]
  },
  {
   "cell_type": "code",
   "execution_count": 31,
   "metadata": {},
   "outputs": [],
   "source": [
    "\n",
    "for i in range(len(tags)):\n",
    "    # counts all the nouns\n",
    "    if tags[i][1] == 'NN' or tags[i][1] == 'NNP' or tags[i][1] == 'NNS':\n",
    "        nouns.append(tags[i][0])\n",
    "    # count all verbs\n",
    "    if tags[i][1] == 'VB' or tags[i][1] == 'VBD' or tags[i][1] == 'VBG' or tags[i][1] == 'VBN' or tags[i][1] == 'VBP' or tags[i][1] == 'VBZ':\n",
    "        verbs.append(tags[i][0])\n",
    "    # count all adjectives\n",
    "    if tags[i][1] == 'JJ' or tags[i][1] == 'JJR' or tags[i][1] == 'JJS':\n",
    "        adjectives.append(tags[i][0])\n",
    "    # count all adverbs\n",
    "    if tags[i][1] == 'RB' or tags[i][1] == 'RBR' or tags[i][1] == 'RBS':\n",
    "        adverbs.append(tags[i][0])\n",
    "        "
   ]
  },
  {
   "cell_type": "code",
   "execution_count": 38,
   "metadata": {},
   "outputs": [
    {
     "data": {
      "image/png": "[encoded data removed]",
      "text/plain": [
       "<Figure size 432x288 with 1 Axes>"
      ]
     },
     "metadata": {},
     "output_type": "display_data"
    }
   ],
   "source": [
    "len(set(nouns)), len(set(verbs)), len(set(adjectives)), len(set(adverbs))\n",
    "# plot a pie chart of these counts\n",
    "\n",
    "labels = 'Nouns', 'Verbs', 'Adjectives', 'Adverbs'\n",
    "sizes = [len(set(nouns)), len(set(verbs)), len(set(adjectives)), len(set(adverbs))]\n",
    "colors = ['gold', 'yellowgreen', 'lightcoral', 'lightskyblue']\n",
    "explode = (0.1, 0.1, 0.1, 0.1)  # explode 1st slice\n",
    "plot = plt.pie(sizes, explode=explode, labels=labels, colors=colors,\n",
    "                autopct='%1.1f%%', shadow=True, startangle=140)\n",
    "plt.axis('equal')\n",
    "plt.show()\n"
   ]
  },
  {
   "cell_type": "code",
   "execution_count": 44,
   "metadata": {},
   "outputs": [],
   "source": [
    "# perform nltk sentiment analysis on the message\n",
    "from nltk.sentiment.vader import SentimentIntensityAnalyzer\n",
    "sid = SentimentIntensityAnalyzer()\n"
   ]
  },
  {
   "cell_type": "code",
   "execution_count": 47,
   "metadata": {},
   "outputs": [],
   "source": [
    "# vizualize sid.polarity_scores(message(0,0))\n",
    "s = ' '.join(updated_word_list)\n",
    "o = sid.polarity_scores(s)\n"
   ]
  },
  {
   "cell_type": "code",
   "execution_count": 63,
   "metadata": {},
   "outputs": [
    {
     "data": {
      "image/png": "[encoded data removed]",
      "text/plain": [
       "<Figure size 432x288 with 1 Axes>"
      ]
     },
     "metadata": {},
     "output_type": "display_data"
    }
   ],
   "source": [
    "# make a pie chart of the polarity scores\n",
    "labels = ['Negative', 'Neutral', 'Positive']\n",
    "sizes = [o['neg'], o['neu'], o['pos']]\n",
    "colors = ['red', 'yellow', 'green']\n",
    "explode = (0.1, 0.1, 0.1)  # explode 1st slice\n",
    "plot = plt.pie(sizes, explode=explode, labels=labels, colors=colors,\n",
    "                autopct='%1.1f%%', shadow=True, startangle=140)\n",
    "plt.axis('equal')\n",
    "plt.show()\n"
   ]
  },
  {
   "cell_type": "code",
   "execution_count": null,
   "metadata": {},
   "outputs": [],
   "source": []
  }
 ],
 "metadata": {
  "interpreter": {
   "hash": "e7370f93d1d0cde622a1f8e1c04877d8463912d04d973331ad4851f04de6915a"
  },
  "kernelspec": {
   "display_name": "Python 3.10.1 64-bit",
   "language": "python",
   "name": "python3"
  },
  "language_info": {
   "codemirror_mode": {
    "name": "ipython",
    "version": 3
   },
   "file_extension": ".py",
   "mimetype": "text/x-python",
   "name": "python",
   "nbconvert_exporter": "python",
   "pygments_lexer": "ipython3",
   "version": "3.10.1"
  },
  "orig_nbformat": 4
 },
 "nbformat": 4,
 "nbformat_minor": 2
}
